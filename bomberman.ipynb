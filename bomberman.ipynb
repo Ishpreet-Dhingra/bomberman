{
 "cells": [
  {
   "cell_type": "code",
   "execution_count": 92,
   "metadata": {
    "collapsed": false
   },
   "outputs": [
    {
     "name": "stdout",
     "output_type": "stream",
     "text": [
      "3 3 3\n"
     ]
    }
   ],
   "source": [
    "\n",
    "a=map(int,raw_input().split())\n",
    "\n",
    "r=a[0]\n",
    "c=a[1]\n",
    "n=a[2]\n",
    "\n",
    "\n",
    "b=[]"
   ]
  },
  {
   "cell_type": "code",
   "execution_count": 93,
   "metadata": {
    "collapsed": false
   },
   "outputs": [
    {
     "name": "stdout",
     "output_type": "stream",
     "text": [
      "..O\n",
      "O..\n",
      ".O.\n"
     ]
    }
   ],
   "source": [
    "for ix in range(r):\n",
    "    \n",
    "    b.append(raw_input())\n",
    "    \n",
    "    \n",
    "    \n",
    "    \n",
    "def destroy(a):\n",
    "    \n",
    "    for ix in range(r):\n",
    "        for iy in range(c):\n",
    "            \n",
    "            if a[ix][iy]==\"z\":\n",
    "                \n",
    "                if ix==0 and iy==0:\n",
    "                    \n",
    "                    a[ix+1][iy]=\".\"\n",
    "                    a[ix][iy+1]=\".\"\n",
    "                    a[ix][iy]=\".\"\n",
    "                \n",
    "                elif ix==r-1 and iy==c-1:\n",
    "                    \n",
    "                    a[ix-1][iy]=\".\"\n",
    "                    a[ix][iy-1]=\".\"\n",
    "                    a[ix][iy]=\".\"\n",
    "                    \n",
    "                                        \n",
    "                elif ix==0 and iy==c-1:\n",
    "                    \n",
    "                    a[ix+1][iy]=\".\"\n",
    "                    a[ix][iy-1]=\".\"\n",
    "                    a[ix][iy]=\".\"\n",
    "                \n",
    "                elif ix==r-1 and iy==0:\n",
    "                    \n",
    "                    a[ix-1][iy]=\".\"\n",
    "                    a[ix][iy+1]=\".\"\n",
    "                    a[ix][iy]=\".\"\n",
    "\n",
    "                elif ix==0 and iy!=c-1 and iy!=0:    #1st row\n",
    "                    \n",
    "                    a[ix+1][iy]=\".\"\n",
    "                    a[ix][iy+1]=\".\"\n",
    "                    a[ix][iy]=\".\"\n",
    "                    a[ix][iy-1]=\".\"\n",
    "                    \n",
    "\n",
    "                elif ix!=0 and iy==0 and ix!=r-1:      #1st column\n",
    "                    \n",
    "                    a[ix+1][iy]=\".\"\n",
    "                    a[ix-1][iy]=\".\"\n",
    "                    a[ix][iy]=\".\"\n",
    "                    a[ix][iy+1]=\".\"                   \n",
    "\n",
    "                elif ix==r-1 and iy!=c-1 and iy!=0:    #last row\n",
    "                    \n",
    "                    a[ix-1][iy]=\".\"\n",
    "                    a[ix][iy+1]=\".\"\n",
    "                    a[ix][iy]=\".\"\n",
    "                    a[ix][iy-1]=\".\"\n",
    "                    \n",
    "\n",
    "                elif ix!=0 and iy==c-1 and ix!=r-1:      #last column\n",
    "                    \n",
    "                    a[ix+1][iy]=\".\"\n",
    "                    a[ix-1][iy]=\".\"\n",
    "                    a[ix][iy]=\".\"\n",
    "                    a[ix][iy-1]=\".\"                   \n",
    "                    \n",
    "                else:\n",
    "                    \n",
    "                    a[ix+1][iy]=\".\"\n",
    "                    a[ix-1][iy]=\".\"\n",
    "                    a[ix][iy]=\".\"\n",
    "                    a[ix][iy-1]=\".\" \n",
    "                    a[ix][iy+1]=\".\"\n",
    "                    \n",
    "\n",
    "\n",
    "    return a\n",
    "    \n",
    "    \n",
    "    \n",
    "    \n",
    "def statechange(d):\n",
    "    \n",
    "    \n",
    "    for ix in range(r):\n",
    "        for iy in range(c):\n",
    "            \n",
    "            if d[ix][iy]==\"O\":\n",
    "            \n",
    "                d[ix][iy]=\"x\"\n",
    "                               \n",
    "\n",
    "            elif d[ix][iy]==\"x\":\n",
    "                \n",
    "                d[ix][iy]=\"y\"\n",
    "            \n",
    "\n",
    "            elif d[ix][iy]==\"y\":\n",
    "                \n",
    "                d[ix][iy]=\"z\"\n",
    "            \n",
    "            \n",
    "    return d\n",
    "    \n",
    "    \n",
    "    \n",
    "    \n",
    "def plantwheredot(e):\n",
    "    \n",
    "    \n",
    "    for ix in range(r):\n",
    "        for iy in range(c):\n",
    "            \n",
    "            if e[ix][iy]==\".\":\n",
    "                \n",
    "                e[ix][iy]=\"O\"\n",
    "            \n",
    "    return e\n",
    "\n",
    "\n",
    "\n"
   ]
  },
  {
   "cell_type": "code",
   "execution_count": 94,
   "metadata": {
    "collapsed": false
   },
   "outputs": [
    {
     "name": "stdout",
     "output_type": "stream",
     "text": [
      "<type 'str'>\n"
     ]
    }
   ],
   "source": [
    "print type(b[0][2])\n",
    "\n",
    "b=list(b)"
   ]
  },
  {
   "cell_type": "code",
   "execution_count": 95,
   "metadata": {
    "collapsed": false
   },
   "outputs": [
    {
     "name": "stdout",
     "output_type": "stream",
     "text": [
      "['..O', 'O..', '.O.']\n"
     ]
    }
   ],
   "source": [
    "l=[]\n",
    "print b\n",
    "for ix in range(r):\n",
    "    \n",
    "    l.append(list(b[ix]))\n",
    "    "
   ]
  },
  {
   "cell_type": "code",
   "execution_count": 96,
   "metadata": {
    "collapsed": false
   },
   "outputs": [],
   "source": [
    "b=l"
   ]
  },
  {
   "cell_type": "code",
   "execution_count": 97,
   "metadata": {
    "collapsed": false
   },
   "outputs": [],
   "source": [
    "flag=0\n",
    "\n",
    "if n==0:\n",
    "    flag=1\n",
    "if n==1:\n",
    "    flag=1\n",
    "    b=statechange(b)           #+1\n",
    "if n==2:\n",
    "    \n",
    "    b=statechange(b)    \n",
    "    b=statechange(b)\n",
    "    b=plantwheredot(b)        #+2\n",
    "    flag=1\n",
    "    \n",
    "if flag==0:\n",
    "    \n",
    "    b=statechange(b)    \n",
    "    b=statechange(b)\n",
    "    b=plantwheredot(b) \n",
    "    \n",
    "    \n",
    "    \n",
    "if n>=3:\n",
    "    for ix in range(3,n+1):\n",
    "    \n",
    "        if 1:\n",
    "        \n",
    "            b=statechange(b)\n",
    "       \n",
    "        \n",
    "        \n",
    "        if ix%2==0:   # destroy does no work during this case as no Z are present\n",
    "            print b\n",
    "            b=plantwheredot(b)\n",
    "        \n",
    "        b=destroy(b)   \n",
    "       \n",
    "        \n",
    "        \n",
    "    \n",
    "    "
   ]
  },
  {
   "cell_type": "code",
   "execution_count": 98,
   "metadata": {
    "collapsed": false
   },
   "outputs": [],
   "source": [
    "for ix in range(r):\n",
    "    for iy in range(c):\n",
    "        if b[ix][iy]==\"x\" or  b[ix][iy]==\"y\":\n",
    "            \n",
    "            b[ix][iy]=\"O\"\n",
    "\n",
    "\n",
    "\n",
    "\n",
    "\n",
    "        "
   ]
  },
  {
   "cell_type": "code",
   "execution_count": 99,
   "metadata": {
    "collapsed": false
   },
   "outputs": [
    {
     "name": "stdout",
     "output_type": "stream",
     "text": [
      "[['.', '.', '.'], ['.', '.', '.'], ['.', '.', '.']]\n"
     ]
    }
   ],
   "source": [
    "\n",
    "print b"
   ]
  },
  {
   "cell_type": "code",
   "execution_count": 100,
   "metadata": {
    "collapsed": false
   },
   "outputs": [],
   "source": [
    "string=\"\"\n",
    "for ix in range(r):\n",
    "    h=\"\"\n",
    "    for iy in range(c):\n",
    "        \n",
    "        h= h + b[ix][iy]\n",
    "        \n",
    "    string=string +h + '\\n'   \n",
    "    "
   ]
  },
  {
   "cell_type": "code",
   "execution_count": 101,
   "metadata": {
    "collapsed": true
   },
   "outputs": [],
   "source": [
    "fg=\"\"\n",
    "\n",
    "fg=\"bye\" + \"hello\""
   ]
  },
  {
   "cell_type": "code",
   "execution_count": 102,
   "metadata": {
    "collapsed": false
   },
   "outputs": [
    {
     "data": {
      "text/plain": [
       "'byehello'"
      ]
     },
     "execution_count": 102,
     "metadata": {},
     "output_type": "execute_result"
    }
   ],
   "source": [
    "fg"
   ]
  },
  {
   "cell_type": "code",
   "execution_count": 103,
   "metadata": {
    "collapsed": false
   },
   "outputs": [
    {
     "name": "stdout",
     "output_type": "stream",
     "text": [
      "...\n",
      "...\n",
      "...\n",
      "\n"
     ]
    }
   ],
   "source": [
    "print string"
   ]
  },
  {
   "cell_type": "code",
   "execution_count": null,
   "metadata": {
    "collapsed": true
   },
   "outputs": [],
   "source": [
    "\n",
    "    \n",
    "        "
   ]
  }
 ],
 "metadata": {
  "kernelspec": {
   "display_name": "Python 2",
   "language": "python",
   "name": "python2"
  },
  "language_info": {
   "codemirror_mode": {
    "name": "ipython",
    "version": 2
   },
   "file_extension": ".py",
   "mimetype": "text/x-python",
   "name": "python",
   "nbconvert_exporter": "python",
   "pygments_lexer": "ipython2",
   "version": "2.7.12"
  }
 },
 "nbformat": 4,
 "nbformat_minor": 2
}
